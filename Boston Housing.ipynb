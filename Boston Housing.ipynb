{
  "cells": [
    {
      "cell_type": "markdown",
      "source": [
        "#Iniciando o projeto: configurações iniciais"
      ],
      "metadata": {
        "id": "F3CblSmHz_s6"
      }
    },
    {
      "cell_type": "code",
      "execution_count": 101,
      "metadata": {
        "id": "2MtHa-VDcn2y"
      },
      "outputs": [],
      "source": [
        "import numpy as np\n",
        "import pandas as pd\n",
        "import os"
      ]
    },
    {
      "cell_type": "code",
      "execution_count": 102,
      "metadata": {
        "id": "RNejvwPgdh3I"
      },
      "outputs": [],
      "source": [
        "seed = 19\n",
        "np.random.seed(seed)"
      ]
    },
    {
      "cell_type": "code",
      "execution_count": 103,
      "metadata": {
        "id": "q1grj3CxgIQ1"
      },
      "outputs": [],
      "source": [
        "%matplotlib inline \n",
        "import matplotlib as mpl \n",
        "import matplotlib.pyplot as plt \n",
        "\n",
        "mpl.rc('axes', labelsize=14) \n",
        "mpl.rc('xtick', labelsize=12)\n",
        "mpl.rc('ytick', labelsize=12)"
      ]
    },
    {
      "cell_type": "code",
      "execution_count": 104,
      "metadata": {
        "id": "3_dpYLyygLfJ"
      },
      "outputs": [],
      "source": [
        "import warnings\n",
        "warnings.filterwarnings(action=\"ignore\", message=\"^internal gelsd\")"
      ]
    },
    {
      "cell_type": "markdown",
      "source": [
        "# Obtendo e descrevendo o conjunto de dados"
      ],
      "metadata": {
        "id": "lW0WPdQa3g5h"
      }
    },
    {
      "cell_type": "code",
      "execution_count": 105,
      "metadata": {
        "id": "6doGDNqQVgH2"
      },
      "outputs": [],
      "source": [
        "data_url = 'http://lib.stat.cmu.edu/datasets/boston'\n",
        "raw_df = pd.read_csv(data_url, sep=\"\\s+\", skiprows=22, header=None)\n",
        "data = np.hstack([raw_df.values[::2, :], raw_df.values[1::2, :3]])\n",
        "feature_names = ['CRIM', 'ZN', 'INDUS', 'CHAS', 'NOX', 'RM', 'AGE', 'DIS', 'RAD', 'TAX', 'PTRATIO', 'B', 'LSTAT', 'MEDV']\n",
        "boston = pd.DataFrame(data, columns=feature_names)"
      ]
    },
    {
      "cell_type": "markdown",
      "metadata": {
        "id": "PgsE0Y66BYCk"
      },
      "source": [
        "Em que:\n",
        "\n",
        "CRIM - per capita crime rate by town\n",
        "\n",
        "ZN - proportion of residential land zoned for lots over 25,000 sq.ft.\n",
        "\n",
        "INDUS - proportion of non-retail business acres per town.\n",
        "\n",
        "CHAS - Charles River dummy variable (1 if tract bounds river; 0 otherwise)\n",
        "\n",
        "NOX - nitric oxides concentration (parts per 10 million)\n",
        "\n",
        "RM - average number of rooms per dwelling\n",
        "\n",
        "AGE - proportion of owner-occupied units built prior to 1940\n",
        "\n",
        "DIS - weighted distances to five Boston employment centres\n",
        "\n",
        "RAD - index of accessibility to radial highways\n",
        "\n",
        "TAX - full-value property-tax rate per \\$10,000\n",
        "\n",
        "PTRATIO - pupil-teacher ratio by town\n",
        "\n",
        "B - 1000(Bk - 0.63)^2 where Bk is the proportion of blacks by town\n",
        "\n",
        "LSTAT - % lower status of the population\n",
        "\n",
        "MEDV - Median value of owner-occupied homes in \\$1000's\n",
        "\n"
      ]
    },
    {
      "cell_type": "markdown",
      "source": [
        "\n",
        "Vamos vizualizar o formato dos nossos dados:"
      ],
      "metadata": {
        "id": "MJ3vi53F0YV3"
      }
    },
    {
      "cell_type": "code",
      "execution_count": 106,
      "metadata": {
        "colab": {
          "base_uri": "https://localhost:8080/",
          "height": 206
        },
        "id": "2Q-r-RdptgrG",
        "outputId": "8cc2ee76-f6cc-4b12-dc8c-b768b59aa143"
      },
      "outputs": [
        {
          "output_type": "execute_result",
          "data": {
            "text/html": [
              "\n",
              "  <div id=\"df-ed2355c6-e32a-41ac-952c-6bd2461a3c75\">\n",
              "    <div class=\"colab-df-container\">\n",
              "      <div>\n",
              "<style scoped>\n",
              "    .dataframe tbody tr th:only-of-type {\n",
              "        vertical-align: middle;\n",
              "    }\n",
              "\n",
              "    .dataframe tbody tr th {\n",
              "        vertical-align: top;\n",
              "    }\n",
              "\n",
              "    .dataframe thead th {\n",
              "        text-align: right;\n",
              "    }\n",
              "</style>\n",
              "<table border=\"1\" class=\"dataframe\">\n",
              "  <thead>\n",
              "    <tr style=\"text-align: right;\">\n",
              "      <th></th>\n",
              "      <th>CRIM</th>\n",
              "      <th>ZN</th>\n",
              "      <th>INDUS</th>\n",
              "      <th>CHAS</th>\n",
              "      <th>NOX</th>\n",
              "      <th>RM</th>\n",
              "      <th>AGE</th>\n",
              "      <th>DIS</th>\n",
              "      <th>RAD</th>\n",
              "      <th>TAX</th>\n",
              "      <th>PTRATIO</th>\n",
              "      <th>B</th>\n",
              "      <th>LSTAT</th>\n",
              "      <th>MEDV</th>\n",
              "    </tr>\n",
              "  </thead>\n",
              "  <tbody>\n",
              "    <tr>\n",
              "      <th>38</th>\n",
              "      <td>0.17505</td>\n",
              "      <td>0.0</td>\n",
              "      <td>5.96</td>\n",
              "      <td>0.0</td>\n",
              "      <td>0.499</td>\n",
              "      <td>5.966</td>\n",
              "      <td>30.2</td>\n",
              "      <td>3.8473</td>\n",
              "      <td>5.0</td>\n",
              "      <td>279.0</td>\n",
              "      <td>19.2</td>\n",
              "      <td>393.43</td>\n",
              "      <td>10.13</td>\n",
              "      <td>24.7</td>\n",
              "    </tr>\n",
              "    <tr>\n",
              "      <th>10</th>\n",
              "      <td>0.22489</td>\n",
              "      <td>12.5</td>\n",
              "      <td>7.87</td>\n",
              "      <td>0.0</td>\n",
              "      <td>0.524</td>\n",
              "      <td>6.377</td>\n",
              "      <td>94.3</td>\n",
              "      <td>6.3467</td>\n",
              "      <td>5.0</td>\n",
              "      <td>311.0</td>\n",
              "      <td>15.2</td>\n",
              "      <td>392.52</td>\n",
              "      <td>20.45</td>\n",
              "      <td>15.0</td>\n",
              "    </tr>\n",
              "    <tr>\n",
              "      <th>142</th>\n",
              "      <td>3.32105</td>\n",
              "      <td>0.0</td>\n",
              "      <td>19.58</td>\n",
              "      <td>1.0</td>\n",
              "      <td>0.871</td>\n",
              "      <td>5.403</td>\n",
              "      <td>100.0</td>\n",
              "      <td>1.3216</td>\n",
              "      <td>5.0</td>\n",
              "      <td>403.0</td>\n",
              "      <td>14.7</td>\n",
              "      <td>396.90</td>\n",
              "      <td>26.82</td>\n",
              "      <td>13.4</td>\n",
              "    </tr>\n",
              "    <tr>\n",
              "      <th>235</th>\n",
              "      <td>0.33045</td>\n",
              "      <td>0.0</td>\n",
              "      <td>6.20</td>\n",
              "      <td>0.0</td>\n",
              "      <td>0.507</td>\n",
              "      <td>6.086</td>\n",
              "      <td>61.5</td>\n",
              "      <td>3.6519</td>\n",
              "      <td>8.0</td>\n",
              "      <td>307.0</td>\n",
              "      <td>17.4</td>\n",
              "      <td>376.75</td>\n",
              "      <td>10.88</td>\n",
              "      <td>24.0</td>\n",
              "    </tr>\n",
              "    <tr>\n",
              "      <th>350</th>\n",
              "      <td>0.06211</td>\n",
              "      <td>40.0</td>\n",
              "      <td>1.25</td>\n",
              "      <td>0.0</td>\n",
              "      <td>0.429</td>\n",
              "      <td>6.490</td>\n",
              "      <td>44.4</td>\n",
              "      <td>8.7921</td>\n",
              "      <td>1.0</td>\n",
              "      <td>335.0</td>\n",
              "      <td>19.7</td>\n",
              "      <td>396.90</td>\n",
              "      <td>5.98</td>\n",
              "      <td>22.9</td>\n",
              "    </tr>\n",
              "  </tbody>\n",
              "</table>\n",
              "</div>\n",
              "      <button class=\"colab-df-convert\" onclick=\"convertToInteractive('df-ed2355c6-e32a-41ac-952c-6bd2461a3c75')\"\n",
              "              title=\"Convert this dataframe to an interactive table.\"\n",
              "              style=\"display:none;\">\n",
              "        \n",
              "  <svg xmlns=\"http://www.w3.org/2000/svg\" height=\"24px\"viewBox=\"0 0 24 24\"\n",
              "       width=\"24px\">\n",
              "    <path d=\"M0 0h24v24H0V0z\" fill=\"none\"/>\n",
              "    <path d=\"M18.56 5.44l.94 2.06.94-2.06 2.06-.94-2.06-.94-.94-2.06-.94 2.06-2.06.94zm-11 1L8.5 8.5l.94-2.06 2.06-.94-2.06-.94L8.5 2.5l-.94 2.06-2.06.94zm10 10l.94 2.06.94-2.06 2.06-.94-2.06-.94-.94-2.06-.94 2.06-2.06.94z\"/><path d=\"M17.41 7.96l-1.37-1.37c-.4-.4-.92-.59-1.43-.59-.52 0-1.04.2-1.43.59L10.3 9.45l-7.72 7.72c-.78.78-.78 2.05 0 2.83L4 21.41c.39.39.9.59 1.41.59.51 0 1.02-.2 1.41-.59l7.78-7.78 2.81-2.81c.8-.78.8-2.07 0-2.86zM5.41 20L4 18.59l7.72-7.72 1.47 1.35L5.41 20z\"/>\n",
              "  </svg>\n",
              "      </button>\n",
              "      \n",
              "  <style>\n",
              "    .colab-df-container {\n",
              "      display:flex;\n",
              "      flex-wrap:wrap;\n",
              "      gap: 12px;\n",
              "    }\n",
              "\n",
              "    .colab-df-convert {\n",
              "      background-color: #E8F0FE;\n",
              "      border: none;\n",
              "      border-radius: 50%;\n",
              "      cursor: pointer;\n",
              "      display: none;\n",
              "      fill: #1967D2;\n",
              "      height: 32px;\n",
              "      padding: 0 0 0 0;\n",
              "      width: 32px;\n",
              "    }\n",
              "\n",
              "    .colab-df-convert:hover {\n",
              "      background-color: #E2EBFA;\n",
              "      box-shadow: 0px 1px 2px rgba(60, 64, 67, 0.3), 0px 1px 3px 1px rgba(60, 64, 67, 0.15);\n",
              "      fill: #174EA6;\n",
              "    }\n",
              "\n",
              "    [theme=dark] .colab-df-convert {\n",
              "      background-color: #3B4455;\n",
              "      fill: #D2E3FC;\n",
              "    }\n",
              "\n",
              "    [theme=dark] .colab-df-convert:hover {\n",
              "      background-color: #434B5C;\n",
              "      box-shadow: 0px 1px 3px 1px rgba(0, 0, 0, 0.15);\n",
              "      filter: drop-shadow(0px 1px 2px rgba(0, 0, 0, 0.3));\n",
              "      fill: #FFFFFF;\n",
              "    }\n",
              "  </style>\n",
              "\n",
              "      <script>\n",
              "        const buttonEl =\n",
              "          document.querySelector('#df-ed2355c6-e32a-41ac-952c-6bd2461a3c75 button.colab-df-convert');\n",
              "        buttonEl.style.display =\n",
              "          google.colab.kernel.accessAllowed ? 'block' : 'none';\n",
              "\n",
              "        async function convertToInteractive(key) {\n",
              "          const element = document.querySelector('#df-ed2355c6-e32a-41ac-952c-6bd2461a3c75');\n",
              "          const dataTable =\n",
              "            await google.colab.kernel.invokeFunction('convertToInteractive',\n",
              "                                                     [key], {});\n",
              "          if (!dataTable) return;\n",
              "\n",
              "          const docLinkHtml = 'Like what you see? Visit the ' +\n",
              "            '<a target=\"_blank\" href=https://colab.research.google.com/notebooks/data_table.ipynb>data table notebook</a>'\n",
              "            + ' to learn more about interactive tables.';\n",
              "          element.innerHTML = '';\n",
              "          dataTable['output_type'] = 'display_data';\n",
              "          await google.colab.output.renderOutput(dataTable, element);\n",
              "          const docLink = document.createElement('div');\n",
              "          docLink.innerHTML = docLinkHtml;\n",
              "          element.appendChild(docLink);\n",
              "        }\n",
              "      </script>\n",
              "    </div>\n",
              "  </div>\n",
              "  "
            ],
            "text/plain": [
              "        CRIM    ZN  INDUS  CHAS    NOX  ...    TAX  PTRATIO       B  LSTAT  MEDV\n",
              "38   0.17505   0.0   5.96   0.0  0.499  ...  279.0     19.2  393.43  10.13  24.7\n",
              "10   0.22489  12.5   7.87   0.0  0.524  ...  311.0     15.2  392.52  20.45  15.0\n",
              "142  3.32105   0.0  19.58   1.0  0.871  ...  403.0     14.7  396.90  26.82  13.4\n",
              "235  0.33045   0.0   6.20   0.0  0.507  ...  307.0     17.4  376.75  10.88  24.0\n",
              "350  0.06211  40.0   1.25   0.0  0.429  ...  335.0     19.7  396.90   5.98  22.9\n",
              "\n",
              "[5 rows x 14 columns]"
            ]
          },
          "metadata": {},
          "execution_count": 106
        }
      ],
      "source": [
        "boston.sample(n = 5, random_state = seed)"
      ]
    },
    {
      "cell_type": "code",
      "execution_count": 107,
      "metadata": {
        "colab": {
          "base_uri": "https://localhost:8080/"
        },
        "id": "cxAabQmIyIX5",
        "outputId": "29bba3c3-5dbf-4b1e-df82-0c81e1a009f3"
      },
      "outputs": [
        {
          "output_type": "stream",
          "name": "stdout",
          "text": [
            "<class 'pandas.core.frame.DataFrame'>\n",
            "RangeIndex: 506 entries, 0 to 505\n",
            "Data columns (total 14 columns):\n",
            " #   Column   Non-Null Count  Dtype  \n",
            "---  ------   --------------  -----  \n",
            " 0   CRIM     506 non-null    float64\n",
            " 1   ZN       506 non-null    float64\n",
            " 2   INDUS    506 non-null    float64\n",
            " 3   CHAS     506 non-null    float64\n",
            " 4   NOX      506 non-null    float64\n",
            " 5   RM       506 non-null    float64\n",
            " 6   AGE      506 non-null    float64\n",
            " 7   DIS      506 non-null    float64\n",
            " 8   RAD      506 non-null    float64\n",
            " 9   TAX      506 non-null    float64\n",
            " 10  PTRATIO  506 non-null    float64\n",
            " 11  B        506 non-null    float64\n",
            " 12  LSTAT    506 non-null    float64\n",
            " 13  MEDV     506 non-null    float64\n",
            "dtypes: float64(14)\n",
            "memory usage: 55.5 KB\n"
          ]
        }
      ],
      "source": [
        "boston.info()"
      ]
    },
    {
      "cell_type": "markdown",
      "source": [
        "Note que todas as variáveis estão no formato float64. Plotaremos alguns histogramas para compreendermos melhor o problema:"
      ],
      "metadata": {
        "id": "hbw_Vg6l0iCL"
      }
    },
    {
      "cell_type": "code",
      "execution_count": 108,
      "metadata": {
        "colab": {
          "base_uri": "https://localhost:8080/",
          "height": 882
        },
        "id": "qSOw-xUayg03",
        "outputId": "dcc367b8-1fb5-4967-81cf-08963152a564"
      },
      "outputs": [
        {
          "output_type": "display_data",
          "data": {
            "image/png": "[encoded data removed]",
            "text/plain": [
              "<Figure size 1440x1080 with 16 Axes>"
            ]
          },
          "metadata": {
            "needs_background": "light"
          }
        }
      ],
      "source": [
        "%matplotlib inline\n",
        "import matplotlib.pyplot as plt\n",
        "boston.hist(bins=50, figsize=(20,15))\n",
        "plt.show()"
      ]
    },
    {
      "cell_type": "markdown",
      "source": [
        "#Separando o conjunto de dados"
      ],
      "metadata": {
        "id": "SvRontfg5H1z"
      }
    },
    {
      "cell_type": "markdown",
      "metadata": {
        "id": "mToxP1Wmce1s"
      },
      "source": [
        "Agora pegaremos o conjunto de dados e dividiremos em dois subconjuntos: treinamento e teste. Para isso, vamos embaralhar os dados na ordem aleatória previamente fixada para remover qualquer viés na ordenação do conjunto de dados."
      ]
    },
    {
      "cell_type": "code",
      "execution_count": 109,
      "metadata": {
        "id": "uI6hWgn6y_8F"
      },
      "outputs": [],
      "source": [
        "from sklearn.model_selection import train_test_split\n",
        "\n",
        "train_set, test_set = train_test_split(boston, \n",
        "                                       test_size=0.2, #20% para teste\n",
        "                                       random_state=seed)"
      ]
    },
    {
      "cell_type": "markdown",
      "source": [
        "Essa divisão é puramente aleatória. Vejamos algumas informações sobre o parametro RM."
      ],
      "metadata": {
        "id": "fiRx1oo9YTX-"
      }
    },
    {
      "cell_type": "code",
      "execution_count": 110,
      "metadata": {
        "colab": {
          "base_uri": "https://localhost:8080/"
        },
        "id": "UK2RGTmqzInr",
        "outputId": "adcfe6b1-8d9e-4167-aa36-b48eb9f54ad5"
      },
      "outputs": [
        {
          "output_type": "execute_result",
          "data": {
            "text/plain": [
              "count    506.000000\n",
              "mean       6.284634\n",
              "std        0.702617\n",
              "min        3.561000\n",
              "25%        5.885500\n",
              "50%        6.208500\n",
              "75%        6.623500\n",
              "max        8.780000\n",
              "Name: RM, dtype: float64"
            ]
          },
          "metadata": {},
          "execution_count": 110
        }
      ],
      "source": [
        "boston[\"RM\"].describe()"
      ]
    },
    {
      "cell_type": "code",
      "execution_count": 111,
      "metadata": {
        "id": "_FGkhA8rzVd8"
      },
      "outputs": [],
      "source": [
        "mean = np.mean(boston[\"RM\"])\n",
        "std = np.std(boston[\"RM\"])"
      ]
    },
    {
      "cell_type": "markdown",
      "source": [
        "Vamos optar por um feature engineering neste momento. Dividiremos o número de quartos em 5 conjuntos, como abaixo:"
      ],
      "metadata": {
        "id": "qBQO0TcLYr9P"
      }
    },
    {
      "cell_type": "code",
      "execution_count": 112,
      "metadata": {
        "colab": {
          "base_uri": "https://localhost:8080/",
          "height": 285
        },
        "id": "f2f_WGKsCghu",
        "outputId": "9f8f53ab-bfe8-46c0-bb52-2281f1d67051"
      },
      "outputs": [
        {
          "output_type": "execute_result",
          "data": {
            "text/plain": [
              "<matplotlib.axes._subplots.AxesSubplot at 0x7f8d6a317090>"
            ]
          },
          "metadata": {},
          "execution_count": 112
        },
        {
          "output_type": "display_data",
          "data": {
            "image/png": "[encoded data removed]",
            "text/plain": [
              "<Figure size 432x288 with 1 Axes>"
            ]
          },
          "metadata": {
            "needs_background": "light"
          }
        }
      ],
      "source": [
        "boston[\"room_strat\"] = pd.cut(boston[\"RM\"],\n",
        "                               bins=[0., 5., 6., 7., 8., np.inf],\n",
        "                               labels=[1, 2, 3, 4, 5])\n",
        "\n",
        "boston[\"room_strat\"].hist()"
      ]
    },
    {
      "cell_type": "code",
      "execution_count": 113,
      "metadata": {
        "colab": {
          "base_uri": "https://localhost:8080/"
        },
        "id": "2d0BDKZpCghw",
        "outputId": "c678d460-a84d-42bc-ac5d-cd43d6422d75"
      },
      "outputs": [
        {
          "output_type": "execute_result",
          "data": {
            "text/plain": [
              "3    269\n",
              "2    157\n",
              "4     51\n",
              "1     16\n",
              "5     13\n",
              "Name: room_strat, dtype: int64"
            ]
          },
          "metadata": {},
          "execution_count": 113
        }
      ],
      "source": [
        "boston[\"room_strat\"].value_counts()"
      ]
    },
    {
      "cell_type": "code",
      "execution_count": 114,
      "metadata": {
        "id": "qEvF0cyNCghw"
      },
      "outputs": [],
      "source": [
        "from sklearn.model_selection import StratifiedShuffleSplit\n",
        "\n",
        "split = StratifiedShuffleSplit(n_splits=1, test_size=0.2, random_state=seed)\n",
        "\n",
        "for train_index, test_index in split.split(boston, boston[\"room_strat\"]):\n",
        "    strat_train_set = boston.loc[train_index]\n",
        "    strat_test_set = boston.loc[test_index]"
      ]
    },
    {
      "cell_type": "markdown",
      "source": [
        "Criamos novos conjuntos de treino e de teste, que chamamos de strat_train_set e strat_test_set. Estes conjuntos devem respeitar a separação que introduzimos baseada em \"RM\" representado na nova variável \"room_strat\"."
      ],
      "metadata": {
        "id": "H9Z7YCJt62qI"
      }
    },
    {
      "cell_type": "code",
      "execution_count": 115,
      "metadata": {
        "id": "G6jStqccCghx"
      },
      "outputs": [],
      "source": [
        "def income_cat_proportions(data): \n",
        "    return data[\"room_strat\"].value_counts()/len(data)"
      ]
    },
    {
      "cell_type": "code",
      "execution_count": 116,
      "metadata": {
        "id": "s2Dp3tJVCghx"
      },
      "outputs": [],
      "source": [
        "train_set, test_set = train_test_split(boston, test_size=0.2, random_state=seed)"
      ]
    },
    {
      "cell_type": "code",
      "execution_count": 117,
      "metadata": {
        "colab": {
          "base_uri": "https://localhost:8080/",
          "height": 206
        },
        "id": "112_a4mxCghy",
        "outputId": "989a7311-145a-410f-a702-64a225789681"
      },
      "outputs": [
        {
          "output_type": "execute_result",
          "data": {
            "text/html": [
              "\n",
              "  <div id=\"df-ee2ea353-2db2-4de6-bc8b-f251d68fb792\">\n",
              "    <div class=\"colab-df-container\">\n",
              "      <div>\n",
              "<style scoped>\n",
              "    .dataframe tbody tr th:only-of-type {\n",
              "        vertical-align: middle;\n",
              "    }\n",
              "\n",
              "    .dataframe tbody tr th {\n",
              "        vertical-align: top;\n",
              "    }\n",
              "\n",
              "    .dataframe thead th {\n",
              "        text-align: right;\n",
              "    }\n",
              "</style>\n",
              "<table border=\"1\" class=\"dataframe\">\n",
              "  <thead>\n",
              "    <tr style=\"text-align: right;\">\n",
              "      <th></th>\n",
              "      <th>Geral</th>\n",
              "      <th>Estratificado</th>\n",
              "      <th>Aleatorio</th>\n",
              "      <th>Aleatório %erro</th>\n",
              "      <th>Estratificado %erro</th>\n",
              "    </tr>\n",
              "  </thead>\n",
              "  <tbody>\n",
              "    <tr>\n",
              "      <th>1</th>\n",
              "      <td>0.031621</td>\n",
              "      <td>0.029412</td>\n",
              "      <td>0.029412</td>\n",
              "      <td>-6.985294</td>\n",
              "      <td>-6.985294</td>\n",
              "    </tr>\n",
              "    <tr>\n",
              "      <th>2</th>\n",
              "      <td>0.310277</td>\n",
              "      <td>0.313725</td>\n",
              "      <td>0.343137</td>\n",
              "      <td>10.590733</td>\n",
              "      <td>1.111527</td>\n",
              "    </tr>\n",
              "    <tr>\n",
              "      <th>3</th>\n",
              "      <td>0.531621</td>\n",
              "      <td>0.529412</td>\n",
              "      <td>0.509804</td>\n",
              "      <td>-4.103798</td>\n",
              "      <td>-0.415482</td>\n",
              "    </tr>\n",
              "    <tr>\n",
              "      <th>4</th>\n",
              "      <td>0.100791</td>\n",
              "      <td>0.098039</td>\n",
              "      <td>0.078431</td>\n",
              "      <td>-22.183775</td>\n",
              "      <td>-2.729719</td>\n",
              "    </tr>\n",
              "    <tr>\n",
              "      <th>5</th>\n",
              "      <td>0.025692</td>\n",
              "      <td>0.029412</td>\n",
              "      <td>0.039216</td>\n",
              "      <td>52.639517</td>\n",
              "      <td>14.479638</td>\n",
              "    </tr>\n",
              "  </tbody>\n",
              "</table>\n",
              "</div>\n",
              "      <button class=\"colab-df-convert\" onclick=\"convertToInteractive('df-ee2ea353-2db2-4de6-bc8b-f251d68fb792')\"\n",
              "              title=\"Convert this dataframe to an interactive table.\"\n",
              "              style=\"display:none;\">\n",
              "        \n",
              "  <svg xmlns=\"http://www.w3.org/2000/svg\" height=\"24px\"viewBox=\"0 0 24 24\"\n",
              "       width=\"24px\">\n",
              "    <path d=\"M0 0h24v24H0V0z\" fill=\"none\"/>\n",
              "    <path d=\"M18.56 5.44l.94 2.06.94-2.06 2.06-.94-2.06-.94-.94-2.06-.94 2.06-2.06.94zm-11 1L8.5 8.5l.94-2.06 2.06-.94-2.06-.94L8.5 2.5l-.94 2.06-2.06.94zm10 10l.94 2.06.94-2.06 2.06-.94-2.06-.94-.94-2.06-.94 2.06-2.06.94z\"/><path d=\"M17.41 7.96l-1.37-1.37c-.4-.4-.92-.59-1.43-.59-.52 0-1.04.2-1.43.59L10.3 9.45l-7.72 7.72c-.78.78-.78 2.05 0 2.83L4 21.41c.39.39.9.59 1.41.59.51 0 1.02-.2 1.41-.59l7.78-7.78 2.81-2.81c.8-.78.8-2.07 0-2.86zM5.41 20L4 18.59l7.72-7.72 1.47 1.35L5.41 20z\"/>\n",
              "  </svg>\n",
              "      </button>\n",
              "      \n",
              "  <style>\n",
              "    .colab-df-container {\n",
              "      display:flex;\n",
              "      flex-wrap:wrap;\n",
              "      gap: 12px;\n",
              "    }\n",
              "\n",
              "    .colab-df-convert {\n",
              "      background-color: #E8F0FE;\n",
              "      border: none;\n",
              "      border-radius: 50%;\n",
              "      cursor: pointer;\n",
              "      display: none;\n",
              "      fill: #1967D2;\n",
              "      height: 32px;\n",
              "      padding: 0 0 0 0;\n",
              "      width: 32px;\n",
              "    }\n",
              "\n",
              "    .colab-df-convert:hover {\n",
              "      background-color: #E2EBFA;\n",
              "      box-shadow: 0px 1px 2px rgba(60, 64, 67, 0.3), 0px 1px 3px 1px rgba(60, 64, 67, 0.15);\n",
              "      fill: #174EA6;\n",
              "    }\n",
              "\n",
              "    [theme=dark] .colab-df-convert {\n",
              "      background-color: #3B4455;\n",
              "      fill: #D2E3FC;\n",
              "    }\n",
              "\n",
              "    [theme=dark] .colab-df-convert:hover {\n",
              "      background-color: #434B5C;\n",
              "      box-shadow: 0px 1px 3px 1px rgba(0, 0, 0, 0.15);\n",
              "      filter: drop-shadow(0px 1px 2px rgba(0, 0, 0, 0.3));\n",
              "      fill: #FFFFFF;\n",
              "    }\n",
              "  </style>\n",
              "\n",
              "      <script>\n",
              "        const buttonEl =\n",
              "          document.querySelector('#df-ee2ea353-2db2-4de6-bc8b-f251d68fb792 button.colab-df-convert');\n",
              "        buttonEl.style.display =\n",
              "          google.colab.kernel.accessAllowed ? 'block' : 'none';\n",
              "\n",
              "        async function convertToInteractive(key) {\n",
              "          const element = document.querySelector('#df-ee2ea353-2db2-4de6-bc8b-f251d68fb792');\n",
              "          const dataTable =\n",
              "            await google.colab.kernel.invokeFunction('convertToInteractive',\n",
              "                                                     [key], {});\n",
              "          if (!dataTable) return;\n",
              "\n",
              "          const docLinkHtml = 'Like what you see? Visit the ' +\n",
              "            '<a target=\"_blank\" href=https://colab.research.google.com/notebooks/data_table.ipynb>data table notebook</a>'\n",
              "            + ' to learn more about interactive tables.';\n",
              "          element.innerHTML = '';\n",
              "          dataTable['output_type'] = 'display_data';\n",
              "          await google.colab.output.renderOutput(dataTable, element);\n",
              "          const docLink = document.createElement('div');\n",
              "          docLink.innerHTML = docLinkHtml;\n",
              "          element.appendChild(docLink);\n",
              "        }\n",
              "      </script>\n",
              "    </div>\n",
              "  </div>\n",
              "  "
            ],
            "text/plain": [
              "      Geral  Estratificado  Aleatorio  Aleatório %erro  Estratificado %erro\n",
              "1  0.031621       0.029412   0.029412        -6.985294            -6.985294\n",
              "2  0.310277       0.313725   0.343137        10.590733             1.111527\n",
              "3  0.531621       0.529412   0.509804        -4.103798            -0.415482\n",
              "4  0.100791       0.098039   0.078431       -22.183775            -2.729719\n",
              "5  0.025692       0.029412   0.039216        52.639517            14.479638"
            ]
          },
          "metadata": {},
          "execution_count": 117
        }
      ],
      "source": [
        "compare_props = pd.DataFrame({\n",
        "    \"Geral\": income_cat_proportions(boston),\n",
        "    \"Estratificado\": income_cat_proportions(strat_test_set),\n",
        "    \"Aleatorio\": income_cat_proportions(test_set),\n",
        "}).sort_index()\n",
        "\n",
        "compare_props[\"Aleatório %erro\"] = 100*compare_props[\"Aleatorio\"]/compare_props[\"Geral\"] - 100\n",
        "compare_props[\"Estratificado %erro\"] = 100*compare_props[\"Estratificado\"]/compare_props[\"Geral\"] - 100\n",
        "\n",
        "compare_props"
      ]
    },
    {
      "cell_type": "markdown",
      "source": [
        "Como o resultado ficou consideravelmente melhor que o original, removemos o parametro intermediário 'room_strat' de strat_train_set e de strat_test_set."
      ],
      "metadata": {
        "id": "SsM81FvFZdCz"
      }
    },
    {
      "cell_type": "code",
      "execution_count": 118,
      "metadata": {
        "id": "ODttMTNBCghy"
      },
      "outputs": [],
      "source": [
        "for set_ in (strat_train_set, strat_test_set):\n",
        "    set_.drop(\"room_strat\", axis=1, inplace=True)"
      ]
    },
    {
      "cell_type": "markdown",
      "source": [
        "# Visualizando a estrutura de dados"
      ],
      "metadata": {
        "id": "s-bwJk2p7Ecx"
      }
    },
    {
      "cell_type": "markdown",
      "source": [
        "Aqui analisaremos algumas propriedades dos nossos dados. Entretanto, queremos evitar o fenômeno do **SNOOPING BIAS**. Para isso, vizualizaremos somente o conjunto de treino, ignorando a existência do conjunto de teste."
      ],
      "metadata": {
        "id": "XFApFc-oaF3x"
      }
    },
    {
      "cell_type": "code",
      "execution_count": 119,
      "metadata": {
        "id": "7aYRIkdqBX1I"
      },
      "outputs": [],
      "source": [
        "boston = strat_train_set.copy()"
      ]
    },
    {
      "cell_type": "code",
      "execution_count": 120,
      "metadata": {
        "colab": {
          "base_uri": "https://localhost:8080/",
          "height": 488
        },
        "id": "BhhfXcLKBDwq",
        "outputId": "5e5eb384-333c-45e1-ffb5-9db5522eb481"
      },
      "outputs": [
        {
          "output_type": "execute_result",
          "data": {
            "text/html": [
              "\n",
              "  <div id=\"df-93f3ef61-1c20-4428-9132-77988e49cbb9\">\n",
              "    <div class=\"colab-df-container\">\n",
              "      <div>\n",
              "<style scoped>\n",
              "    .dataframe tbody tr th:only-of-type {\n",
              "        vertical-align: middle;\n",
              "    }\n",
              "\n",
              "    .dataframe tbody tr th {\n",
              "        vertical-align: top;\n",
              "    }\n",
              "\n",
              "    .dataframe thead th {\n",
              "        text-align: right;\n",
              "    }\n",
              "</style>\n",
              "<table border=\"1\" class=\"dataframe\">\n",
              "  <thead>\n",
              "    <tr style=\"text-align: right;\">\n",
              "      <th></th>\n",
              "      <th>CRIM</th>\n",
              "      <th>ZN</th>\n",
              "      <th>INDUS</th>\n",
              "      <th>CHAS</th>\n",
              "      <th>NOX</th>\n",
              "      <th>RM</th>\n",
              "      <th>AGE</th>\n",
              "      <th>DIS</th>\n",
              "      <th>RAD</th>\n",
              "      <th>TAX</th>\n",
              "      <th>PTRATIO</th>\n",
              "      <th>B</th>\n",
              "      <th>LSTAT</th>\n",
              "      <th>MEDV</th>\n",
              "    </tr>\n",
              "  </thead>\n",
              "  <tbody>\n",
              "    <tr>\n",
              "      <th>CRIM</th>\n",
              "      <td>1.000000</td>\n",
              "      <td>-0.203462</td>\n",
              "      <td>0.395715</td>\n",
              "      <td>-0.054805</td>\n",
              "      <td>0.432078</td>\n",
              "      <td>-0.199139</td>\n",
              "      <td>0.361322</td>\n",
              "      <td>-0.381070</td>\n",
              "      <td>0.612165</td>\n",
              "      <td>0.571355</td>\n",
              "      <td>0.297793</td>\n",
              "      <td>-0.314003</td>\n",
              "      <td>0.479028</td>\n",
              "      <td>-0.392197</td>\n",
              "    </tr>\n",
              "    <tr>\n",
              "      <th>ZN</th>\n",
              "      <td>-0.203462</td>\n",
              "      <td>1.000000</td>\n",
              "      <td>-0.554188</td>\n",
              "      <td>-0.046751</td>\n",
              "      <td>-0.545092</td>\n",
              "      <td>0.320000</td>\n",
              "      <td>-0.593504</td>\n",
              "      <td>0.676621</td>\n",
              "      <td>-0.328190</td>\n",
              "      <td>-0.326620</td>\n",
              "      <td>-0.392645</td>\n",
              "      <td>0.177692</td>\n",
              "      <td>-0.422488</td>\n",
              "      <td>0.371187</td>\n",
              "    </tr>\n",
              "    <tr>\n",
              "      <th>INDUS</th>\n",
              "      <td>0.395715</td>\n",
              "      <td>-0.554188</td>\n",
              "      <td>1.000000</td>\n",
              "      <td>0.085003</td>\n",
              "      <td>0.783959</td>\n",
              "      <td>-0.397297</td>\n",
              "      <td>0.678480</td>\n",
              "      <td>-0.734869</td>\n",
              "      <td>0.593144</td>\n",
              "      <td>0.704537</td>\n",
              "      <td>0.364306</td>\n",
              "      <td>-0.354427</td>\n",
              "      <td>0.608592</td>\n",
              "      <td>-0.474546</td>\n",
              "    </tr>\n",
              "    <tr>\n",
              "      <th>CHAS</th>\n",
              "      <td>-0.054805</td>\n",
              "      <td>-0.046751</td>\n",
              "      <td>0.085003</td>\n",
              "      <td>1.000000</td>\n",
              "      <td>0.122409</td>\n",
              "      <td>0.101050</td>\n",
              "      <td>0.105227</td>\n",
              "      <td>-0.123777</td>\n",
              "      <td>-0.001140</td>\n",
              "      <td>-0.023592</td>\n",
              "      <td>-0.130801</td>\n",
              "      <td>0.047125</td>\n",
              "      <td>-0.070077</td>\n",
              "      <td>0.190827</td>\n",
              "    </tr>\n",
              "    <tr>\n",
              "      <th>NOX</th>\n",
              "      <td>0.432078</td>\n",
              "      <td>-0.545092</td>\n",
              "      <td>0.783959</td>\n",
              "      <td>0.122409</td>\n",
              "      <td>1.000000</td>\n",
              "      <td>-0.347257</td>\n",
              "      <td>0.738272</td>\n",
              "      <td>-0.778721</td>\n",
              "      <td>0.624051</td>\n",
              "      <td>0.684684</td>\n",
              "      <td>0.233710</td>\n",
              "      <td>-0.395940</td>\n",
              "      <td>0.615901</td>\n",
              "      <td>-0.458808</td>\n",
              "    </tr>\n",
              "    <tr>\n",
              "      <th>RM</th>\n",
              "      <td>-0.199139</td>\n",
              "      <td>0.320000</td>\n",
              "      <td>-0.397297</td>\n",
              "      <td>0.101050</td>\n",
              "      <td>-0.347257</td>\n",
              "      <td>1.000000</td>\n",
              "      <td>-0.261281</td>\n",
              "      <td>0.224891</td>\n",
              "      <td>-0.198890</td>\n",
              "      <td>-0.279592</td>\n",
              "      <td>-0.314851</td>\n",
              "      <td>0.100897</td>\n",
              "      <td>-0.629316</td>\n",
              "      <td>0.696873</td>\n",
              "    </tr>\n",
              "    <tr>\n",
              "      <th>AGE</th>\n",
              "      <td>0.361322</td>\n",
              "      <td>-0.593504</td>\n",
              "      <td>0.678480</td>\n",
              "      <td>0.105227</td>\n",
              "      <td>0.738272</td>\n",
              "      <td>-0.261281</td>\n",
              "      <td>1.000000</td>\n",
              "      <td>-0.743845</td>\n",
              "      <td>0.477287</td>\n",
              "      <td>0.531716</td>\n",
              "      <td>0.285567</td>\n",
              "      <td>-0.283260</td>\n",
              "      <td>0.606988</td>\n",
              "      <td>-0.396675</td>\n",
              "    </tr>\n",
              "    <tr>\n",
              "      <th>DIS</th>\n",
              "      <td>-0.381070</td>\n",
              "      <td>0.676621</td>\n",
              "      <td>-0.734869</td>\n",
              "      <td>-0.123777</td>\n",
              "      <td>-0.778721</td>\n",
              "      <td>0.224891</td>\n",
              "      <td>-0.743845</td>\n",
              "      <td>1.000000</td>\n",
              "      <td>-0.508479</td>\n",
              "      <td>-0.556623</td>\n",
              "      <td>-0.262986</td>\n",
              "      <td>0.294458</td>\n",
              "      <td>-0.503396</td>\n",
              "      <td>0.268609</td>\n",
              "    </tr>\n",
              "    <tr>\n",
              "      <th>RAD</th>\n",
              "      <td>0.612165</td>\n",
              "      <td>-0.328190</td>\n",
              "      <td>0.593144</td>\n",
              "      <td>-0.001140</td>\n",
              "      <td>0.624051</td>\n",
              "      <td>-0.198890</td>\n",
              "      <td>0.477287</td>\n",
              "      <td>-0.508479</td>\n",
              "      <td>1.000000</td>\n",
              "      <td>0.912531</td>\n",
              "      <td>0.495899</td>\n",
              "      <td>-0.415246</td>\n",
              "      <td>0.500730</td>\n",
              "      <td>-0.372652</td>\n",
              "    </tr>\n",
              "    <tr>\n",
              "      <th>TAX</th>\n",
              "      <td>0.571355</td>\n",
              "      <td>-0.326620</td>\n",
              "      <td>0.704537</td>\n",
              "      <td>-0.023592</td>\n",
              "      <td>0.684684</td>\n",
              "      <td>-0.279592</td>\n",
              "      <td>0.531716</td>\n",
              "      <td>-0.556623</td>\n",
              "      <td>0.912531</td>\n",
              "      <td>1.000000</td>\n",
              "      <td>0.469742</td>\n",
              "      <td>-0.422019</td>\n",
              "      <td>0.548827</td>\n",
              "      <td>-0.450956</td>\n",
              "    </tr>\n",
              "    <tr>\n",
              "      <th>PTRATIO</th>\n",
              "      <td>0.297793</td>\n",
              "      <td>-0.392645</td>\n",
              "      <td>0.364306</td>\n",
              "      <td>-0.130801</td>\n",
              "      <td>0.233710</td>\n",
              "      <td>-0.314851</td>\n",
              "      <td>0.285567</td>\n",
              "      <td>-0.262986</td>\n",
              "      <td>0.495899</td>\n",
              "      <td>0.469742</td>\n",
              "      <td>1.000000</td>\n",
              "      <td>-0.159968</td>\n",
              "      <td>0.365218</td>\n",
              "      <td>-0.470316</td>\n",
              "    </tr>\n",
              "    <tr>\n",
              "      <th>B</th>\n",
              "      <td>-0.314003</td>\n",
              "      <td>0.177692</td>\n",
              "      <td>-0.354427</td>\n",
              "      <td>0.047125</td>\n",
              "      <td>-0.395940</td>\n",
              "      <td>0.100897</td>\n",
              "      <td>-0.283260</td>\n",
              "      <td>0.294458</td>\n",
              "      <td>-0.415246</td>\n",
              "      <td>-0.422019</td>\n",
              "      <td>-0.159968</td>\n",
              "      <td>1.000000</td>\n",
              "      <td>-0.366048</td>\n",
              "      <td>0.327455</td>\n",
              "    </tr>\n",
              "    <tr>\n",
              "      <th>LSTAT</th>\n",
              "      <td>0.479028</td>\n",
              "      <td>-0.422488</td>\n",
              "      <td>0.608592</td>\n",
              "      <td>-0.070077</td>\n",
              "      <td>0.615901</td>\n",
              "      <td>-0.629316</td>\n",
              "      <td>0.606988</td>\n",
              "      <td>-0.503396</td>\n",
              "      <td>0.500730</td>\n",
              "      <td>0.548827</td>\n",
              "      <td>0.365218</td>\n",
              "      <td>-0.366048</td>\n",
              "      <td>1.000000</td>\n",
              "      <td>-0.752338</td>\n",
              "    </tr>\n",
              "    <tr>\n",
              "      <th>MEDV</th>\n",
              "      <td>-0.392197</td>\n",
              "      <td>0.371187</td>\n",
              "      <td>-0.474546</td>\n",
              "      <td>0.190827</td>\n",
              "      <td>-0.458808</td>\n",
              "      <td>0.696873</td>\n",
              "      <td>-0.396675</td>\n",
              "      <td>0.268609</td>\n",
              "      <td>-0.372652</td>\n",
              "      <td>-0.450956</td>\n",
              "      <td>-0.470316</td>\n",
              "      <td>0.327455</td>\n",
              "      <td>-0.752338</td>\n",
              "      <td>1.000000</td>\n",
              "    </tr>\n",
              "  </tbody>\n",
              "</table>\n",
              "</div>\n",
              "      <button class=\"colab-df-convert\" onclick=\"convertToInteractive('df-93f3ef61-1c20-4428-9132-77988e49cbb9')\"\n",
              "              title=\"Convert this dataframe to an interactive table.\"\n",
              "              style=\"display:none;\">\n",
              "        \n",
              "  <svg xmlns=\"http://www.w3.org/2000/svg\" height=\"24px\"viewBox=\"0 0 24 24\"\n",
              "       width=\"24px\">\n",
              "    <path d=\"M0 0h24v24H0V0z\" fill=\"none\"/>\n",
              "    <path d=\"M18.56 5.44l.94 2.06.94-2.06 2.06-.94-2.06-.94-.94-2.06-.94 2.06-2.06.94zm-11 1L8.5 8.5l.94-2.06 2.06-.94-2.06-.94L8.5 2.5l-.94 2.06-2.06.94zm10 10l.94 2.06.94-2.06 2.06-.94-2.06-.94-.94-2.06-.94 2.06-2.06.94z\"/><path d=\"M17.41 7.96l-1.37-1.37c-.4-.4-.92-.59-1.43-.59-.52 0-1.04.2-1.43.59L10.3 9.45l-7.72 7.72c-.78.78-.78 2.05 0 2.83L4 21.41c.39.39.9.59 1.41.59.51 0 1.02-.2 1.41-.59l7.78-7.78 2.81-2.81c.8-.78.8-2.07 0-2.86zM5.41 20L4 18.59l7.72-7.72 1.47 1.35L5.41 20z\"/>\n",
              "  </svg>\n",
              "      </button>\n",
              "      \n",
              "  <style>\n",
              "    .colab-df-container {\n",
              "      display:flex;\n",
              "      flex-wrap:wrap;\n",
              "      gap: 12px;\n",
              "    }\n",
              "\n",
              "    .colab-df-convert {\n",
              "      background-color: #E8F0FE;\n",
              "      border: none;\n",
              "      border-radius: 50%;\n",
              "      cursor: pointer;\n",
              "      display: none;\n",
              "      fill: #1967D2;\n",
              "      height: 32px;\n",
              "      padding: 0 0 0 0;\n",
              "      width: 32px;\n",
              "    }\n",
              "\n",
              "    .colab-df-convert:hover {\n",
              "      background-color: #E2EBFA;\n",
              "      box-shadow: 0px 1px 2px rgba(60, 64, 67, 0.3), 0px 1px 3px 1px rgba(60, 64, 67, 0.15);\n",
              "      fill: #174EA6;\n",
              "    }\n",
              "\n",
              "    [theme=dark] .colab-df-convert {\n",
              "      background-color: #3B4455;\n",
              "      fill: #D2E3FC;\n",
              "    }\n",
              "\n",
              "    [theme=dark] .colab-df-convert:hover {\n",
              "      background-color: #434B5C;\n",
              "      box-shadow: 0px 1px 3px 1px rgba(0, 0, 0, 0.15);\n",
              "      filter: drop-shadow(0px 1px 2px rgba(0, 0, 0, 0.3));\n",
              "      fill: #FFFFFF;\n",
              "    }\n",
              "  </style>\n",
              "\n",
              "      <script>\n",
              "        const buttonEl =\n",
              "          document.querySelector('#df-93f3ef61-1c20-4428-9132-77988e49cbb9 button.colab-df-convert');\n",
              "        buttonEl.style.display =\n",
              "          google.colab.kernel.accessAllowed ? 'block' : 'none';\n",
              "\n",
              "        async function convertToInteractive(key) {\n",
              "          const element = document.querySelector('#df-93f3ef61-1c20-4428-9132-77988e49cbb9');\n",
              "          const dataTable =\n",
              "            await google.colab.kernel.invokeFunction('convertToInteractive',\n",
              "                                                     [key], {});\n",
              "          if (!dataTable) return;\n",
              "\n",
              "          const docLinkHtml = 'Like what you see? Visit the ' +\n",
              "            '<a target=\"_blank\" href=https://colab.research.google.com/notebooks/data_table.ipynb>data table notebook</a>'\n",
              "            + ' to learn more about interactive tables.';\n",
              "          element.innerHTML = '';\n",
              "          dataTable['output_type'] = 'display_data';\n",
              "          await google.colab.output.renderOutput(dataTable, element);\n",
              "          const docLink = document.createElement('div');\n",
              "          docLink.innerHTML = docLinkHtml;\n",
              "          element.appendChild(docLink);\n",
              "        }\n",
              "      </script>\n",
              "    </div>\n",
              "  </div>\n",
              "  "
            ],
            "text/plain": [
              "             CRIM        ZN     INDUS  ...         B     LSTAT      MEDV\n",
              "CRIM     1.000000 -0.203462  0.395715  ... -0.314003  0.479028 -0.392197\n",
              "ZN      -0.203462  1.000000 -0.554188  ...  0.177692 -0.422488  0.371187\n",
              "INDUS    0.395715 -0.554188  1.000000  ... -0.354427  0.608592 -0.474546\n",
              "CHAS    -0.054805 -0.046751  0.085003  ...  0.047125 -0.070077  0.190827\n",
              "NOX      0.432078 -0.545092  0.783959  ... -0.395940  0.615901 -0.458808\n",
              "RM      -0.199139  0.320000 -0.397297  ...  0.100897 -0.629316  0.696873\n",
              "AGE      0.361322 -0.593504  0.678480  ... -0.283260  0.606988 -0.396675\n",
              "DIS     -0.381070  0.676621 -0.734869  ...  0.294458 -0.503396  0.268609\n",
              "RAD      0.612165 -0.328190  0.593144  ... -0.415246  0.500730 -0.372652\n",
              "TAX      0.571355 -0.326620  0.704537  ... -0.422019  0.548827 -0.450956\n",
              "PTRATIO  0.297793 -0.392645  0.364306  ... -0.159968  0.365218 -0.470316\n",
              "B       -0.314003  0.177692 -0.354427  ...  1.000000 -0.366048  0.327455\n",
              "LSTAT    0.479028 -0.422488  0.608592  ... -0.366048  1.000000 -0.752338\n",
              "MEDV    -0.392197  0.371187 -0.474546  ...  0.327455 -0.752338  1.000000\n",
              "\n",
              "[14 rows x 14 columns]"
            ]
          },
          "metadata": {},
          "execution_count": 120
        }
      ],
      "source": [
        "corr_matrix = boston.corr()\n",
        "\n",
        "corr_matrix"
      ]
    },
    {
      "cell_type": "code",
      "execution_count": 121,
      "metadata": {
        "colab": {
          "base_uri": "https://localhost:8080/"
        },
        "id": "zvVNHiVAEprU",
        "outputId": "db4760fc-7da6-4f4b-cc3d-241088bd5e2b"
      },
      "outputs": [
        {
          "output_type": "execute_result",
          "data": {
            "text/plain": [
              "MEDV       1.000000\n",
              "RM         0.696873\n",
              "ZN         0.371187\n",
              "B          0.327455\n",
              "DIS        0.268609\n",
              "CHAS       0.190827\n",
              "RAD       -0.372652\n",
              "CRIM      -0.392197\n",
              "AGE       -0.396675\n",
              "TAX       -0.450956\n",
              "NOX       -0.458808\n",
              "PTRATIO   -0.470316\n",
              "INDUS     -0.474546\n",
              "LSTAT     -0.752338\n",
              "Name: MEDV, dtype: float64"
            ]
          },
          "metadata": {},
          "execution_count": 121
        }
      ],
      "source": [
        "corr_matrix[\"MEDV\"].sort_values(ascending=False)"
      ]
    },
    {
      "cell_type": "code",
      "execution_count": 122,
      "metadata": {
        "colab": {
          "base_uri": "https://localhost:8080/",
          "height": 801
        },
        "id": "QtbtA03JE41q",
        "outputId": "2c24e70d-2ba2-4e92-af71-383142aaa4b3"
      },
      "outputs": [
        {
          "output_type": "execute_result",
          "data": {
            "text/plain": [
              "array([[<matplotlib.axes._subplots.AxesSubplot object at 0x7f8d6a2d2d50>,\n",
              "        <matplotlib.axes._subplots.AxesSubplot object at 0x7f8d6a302890>,\n",
              "        <matplotlib.axes._subplots.AxesSubplot object at 0x7f8d6a296c90>,\n",
              "        <matplotlib.axes._subplots.AxesSubplot object at 0x7f8d6a2551d0>],\n",
              "       [<matplotlib.axes._subplots.AxesSubplot object at 0x7f8d6a28a6d0>,\n",
              "        <matplotlib.axes._subplots.AxesSubplot object at 0x7f8d6a23ebd0>,\n",
              "        <matplotlib.axes._subplots.AxesSubplot object at 0x7f8d6a3cf510>,\n",
              "        <matplotlib.axes._subplots.AxesSubplot object at 0x7f8d6a479050>],\n",
              "       [<matplotlib.axes._subplots.AxesSubplot object at 0x7f8d6a479310>,\n",
              "        <matplotlib.axes._subplots.AxesSubplot object at 0x7f8d6acbc450>,\n",
              "        <matplotlib.axes._subplots.AxesSubplot object at 0x7f8d6ab4a6d0>,\n",
              "        <matplotlib.axes._subplots.AxesSubplot object at 0x7f8d6b674690>],\n",
              "       [<matplotlib.axes._subplots.AxesSubplot object at 0x7f8d6b41fa90>,\n",
              "        <matplotlib.axes._subplots.AxesSubplot object at 0x7f8d6a661ed0>,\n",
              "        <matplotlib.axes._subplots.AxesSubplot object at 0x7f8d6aa27190>,\n",
              "        <matplotlib.axes._subplots.AxesSubplot object at 0x7f8d6a61d1d0>]],\n",
              "      dtype=object)"
            ]
          },
          "metadata": {},
          "execution_count": 122
        },
        {
          "output_type": "display_data",
          "data": {
            "image/png": "[encoded data removed]",
            "text/plain": [
              "<Figure size 864x576 with 16 Axes>"
            ]
          },
          "metadata": {
            "needs_background": "light"
          }
        }
      ],
      "source": [
        "from pandas.plotting import scatter_matrix\n",
        "attributes = [\"MEDV\", \"RM\", \"B\", \"LSTAT\"]\n",
        "\n",
        "scatter_matrix(boston[attributes], figsize=(12, 8))"
      ]
    },
    {
      "cell_type": "markdown",
      "metadata": {
        "id": "Ikgt09Vw_2Xr"
      },
      "source": [
        "O objetivo deste projeto é elaborar um modelo que tenha a capacidade de prever o valor das casas. Para isso, note que as características que tem maior correlação com o valor das casas é o RM e o LSTAT:"
      ]
    },
    {
      "cell_type": "code",
      "execution_count": 123,
      "metadata": {
        "colab": {
          "base_uri": "https://localhost:8080/",
          "height": 303
        },
        "id": "kK1v8dvKFq9y",
        "outputId": "02048984-f255-4391-93ed-e07bd8a63928"
      },
      "outputs": [
        {
          "output_type": "execute_result",
          "data": {
            "text/plain": [
              "(3.0, 9.5, 0.0, 55.0)"
            ]
          },
          "metadata": {},
          "execution_count": 123
        },
        {
          "output_type": "display_data",
          "data": {
            "image/png": "[encoded data removed]",
            "text/plain": [
              "<Figure size 432x288 with 1 Axes>"
            ]
          },
          "metadata": {
            "needs_background": "light"
          }
        }
      ],
      "source": [
        "boston.plot(kind=\"scatter\", x=\"RM\", y=\"MEDV\",\n",
        "             alpha=0.4)\n",
        "plt.axis([3, 9.5, 0, 55])"
      ]
    },
    {
      "cell_type": "code",
      "execution_count": 124,
      "metadata": {
        "colab": {
          "base_uri": "https://localhost:8080/",
          "height": 308
        },
        "id": "Vo-i5WaNCgh0",
        "outputId": "f91a31c9-396c-40a0-a01f-cc3d0a018cbf"
      },
      "outputs": [
        {
          "output_type": "execute_result",
          "data": {
            "text/plain": [
              "(0.0, 45.0, 0.0, 60.0)"
            ]
          },
          "metadata": {},
          "execution_count": 124
        },
        {
          "output_type": "display_data",
          "data": {
            "image/png": "[encoded data removed]",
            "text/plain": [
              "<Figure size 432x288 with 1 Axes>"
            ]
          },
          "metadata": {
            "needs_background": "light"
          }
        }
      ],
      "source": [
        "boston.plot(kind=\"scatter\", x=\"LSTAT\", y=\"MEDV\",\n",
        "             alpha=0.4)\n",
        "plt.axis([0, 45, 0, 60])"
      ]
    },
    {
      "cell_type": "markdown",
      "source": [
        "Pelas plotagens, vemos que em ambos os casos a correlação é forte."
      ],
      "metadata": {
        "id": "ZXQ0E5z7dmWq"
      }
    },
    {
      "cell_type": "markdown",
      "source": [
        "# Preparando os dados para os algoritmos de Machine Learning"
      ],
      "metadata": {
        "id": "3iLG8Aku7gkW"
      }
    },
    {
      "cell_type": "code",
      "execution_count": 125,
      "metadata": {
        "id": "CONV3BuRGxH9"
      },
      "outputs": [],
      "source": [
        "boston = strat_train_set.drop(\"MEDV\", axis=1)\n",
        "boston_labels = strat_train_set[\"MEDV\"].copy()"
      ]
    },
    {
      "cell_type": "markdown",
      "source": [
        "Existem dados faltantes?"
      ],
      "metadata": {
        "id": "MipEPawRd252"
      }
    },
    {
      "cell_type": "code",
      "execution_count": 126,
      "metadata": {
        "colab": {
          "base_uri": "https://localhost:8080/",
          "height": 49
        },
        "id": "25FaKjMnHbej",
        "outputId": "6653e026-6f7e-4929-dbe2-a0ba83d2a775"
      },
      "outputs": [
        {
          "output_type": "execute_result",
          "data": {
            "text/html": [
              "\n",
              "  <div id=\"df-836cc727-e840-413e-8e81-29baf0311315\">\n",
              "    <div class=\"colab-df-container\">\n",
              "      <div>\n",
              "<style scoped>\n",
              "    .dataframe tbody tr th:only-of-type {\n",
              "        vertical-align: middle;\n",
              "    }\n",
              "\n",
              "    .dataframe tbody tr th {\n",
              "        vertical-align: top;\n",
              "    }\n",
              "\n",
              "    .dataframe thead th {\n",
              "        text-align: right;\n",
              "    }\n",
              "</style>\n",
              "<table border=\"1\" class=\"dataframe\">\n",
              "  <thead>\n",
              "    <tr style=\"text-align: right;\">\n",
              "      <th></th>\n",
              "      <th>CRIM</th>\n",
              "      <th>ZN</th>\n",
              "      <th>INDUS</th>\n",
              "      <th>CHAS</th>\n",
              "      <th>NOX</th>\n",
              "      <th>RM</th>\n",
              "      <th>AGE</th>\n",
              "      <th>DIS</th>\n",
              "      <th>RAD</th>\n",
              "      <th>TAX</th>\n",
              "      <th>PTRATIO</th>\n",
              "      <th>B</th>\n",
              "      <th>LSTAT</th>\n",
              "    </tr>\n",
              "  </thead>\n",
              "  <tbody>\n",
              "  </tbody>\n",
              "</table>\n",
              "</div>\n",
              "      <button class=\"colab-df-convert\" onclick=\"convertToInteractive('df-836cc727-e840-413e-8e81-29baf0311315')\"\n",
              "              title=\"Convert this dataframe to an interactive table.\"\n",
              "              style=\"display:none;\">\n",
              "        \n",
              "  <svg xmlns=\"http://www.w3.org/2000/svg\" height=\"24px\"viewBox=\"0 0 24 24\"\n",
              "       width=\"24px\">\n",
              "    <path d=\"M0 0h24v24H0V0z\" fill=\"none\"/>\n",
              "    <path d=\"M18.56 5.44l.94 2.06.94-2.06 2.06-.94-2.06-.94-.94-2.06-.94 2.06-2.06.94zm-11 1L8.5 8.5l.94-2.06 2.06-.94-2.06-.94L8.5 2.5l-.94 2.06-2.06.94zm10 10l.94 2.06.94-2.06 2.06-.94-2.06-.94-.94-2.06-.94 2.06-2.06.94z\"/><path d=\"M17.41 7.96l-1.37-1.37c-.4-.4-.92-.59-1.43-.59-.52 0-1.04.2-1.43.59L10.3 9.45l-7.72 7.72c-.78.78-.78 2.05 0 2.83L4 21.41c.39.39.9.59 1.41.59.51 0 1.02-.2 1.41-.59l7.78-7.78 2.81-2.81c.8-.78.8-2.07 0-2.86zM5.41 20L4 18.59l7.72-7.72 1.47 1.35L5.41 20z\"/>\n",
              "  </svg>\n",
              "      </button>\n",
              "      \n",
              "  <style>\n",
              "    .colab-df-container {\n",
              "      display:flex;\n",
              "      flex-wrap:wrap;\n",
              "      gap: 12px;\n",
              "    }\n",
              "\n",
              "    .colab-df-convert {\n",
              "      background-color: #E8F0FE;\n",
              "      border: none;\n",
              "      border-radius: 50%;\n",
              "      cursor: pointer;\n",
              "      display: none;\n",
              "      fill: #1967D2;\n",
              "      height: 32px;\n",
              "      padding: 0 0 0 0;\n",
              "      width: 32px;\n",
              "    }\n",
              "\n",
              "    .colab-df-convert:hover {\n",
              "      background-color: #E2EBFA;\n",
              "      box-shadow: 0px 1px 2px rgba(60, 64, 67, 0.3), 0px 1px 3px 1px rgba(60, 64, 67, 0.15);\n",
              "      fill: #174EA6;\n",
              "    }\n",
              "\n",
              "    [theme=dark] .colab-df-convert {\n",
              "      background-color: #3B4455;\n",
              "      fill: #D2E3FC;\n",
              "    }\n",
              "\n",
              "    [theme=dark] .colab-df-convert:hover {\n",
              "      background-color: #434B5C;\n",
              "      box-shadow: 0px 1px 3px 1px rgba(0, 0, 0, 0.15);\n",
              "      filter: drop-shadow(0px 1px 2px rgba(0, 0, 0, 0.3));\n",
              "      fill: #FFFFFF;\n",
              "    }\n",
              "  </style>\n",
              "\n",
              "      <script>\n",
              "        const buttonEl =\n",
              "          document.querySelector('#df-836cc727-e840-413e-8e81-29baf0311315 button.colab-df-convert');\n",
              "        buttonEl.style.display =\n",
              "          google.colab.kernel.accessAllowed ? 'block' : 'none';\n",
              "\n",
              "        async function convertToInteractive(key) {\n",
              "          const element = document.querySelector('#df-836cc727-e840-413e-8e81-29baf0311315');\n",
              "          const dataTable =\n",
              "            await google.colab.kernel.invokeFunction('convertToInteractive',\n",
              "                                                     [key], {});\n",
              "          if (!dataTable) return;\n",
              "\n",
              "          const docLinkHtml = 'Like what you see? Visit the ' +\n",
              "            '<a target=\"_blank\" href=https://colab.research.google.com/notebooks/data_table.ipynb>data table notebook</a>'\n",
              "            + ' to learn more about interactive tables.';\n",
              "          element.innerHTML = '';\n",
              "          dataTable['output_type'] = 'display_data';\n",
              "          await google.colab.output.renderOutput(dataTable, element);\n",
              "          const docLink = document.createElement('div');\n",
              "          docLink.innerHTML = docLinkHtml;\n",
              "          element.appendChild(docLink);\n",
              "        }\n",
              "      </script>\n",
              "    </div>\n",
              "  </div>\n",
              "  "
            ],
            "text/plain": [
              "Empty DataFrame\n",
              "Columns: [CRIM, ZN, INDUS, CHAS, NOX, RM, AGE, DIS, RAD, TAX, PTRATIO, B, LSTAT]\n",
              "Index: []"
            ]
          },
          "metadata": {},
          "execution_count": 126
        }
      ],
      "source": [
        "sample_incomplete_rows = boston[boston.isnull().any(axis=1)].head() \n",
        "sample_incomplete_rows"
      ]
    },
    {
      "cell_type": "markdown",
      "source": [
        "A reposta é não! Agora vamos criar agora o pipeline, que será aprendido no conjunto de treino e depois será aplicado, usando as regras aprendidas no treinamento, no conjunto de teste. Esse procedimento de usar somente o conjunto de treino é muito importante para evitar o **DATA LEAKAGE**, ou seja, evitar que informações de fora do conjunto de treinamento sejam usadas para criar o modelo. Isso pois essas informações adicionais podem permitir que o modelo aprenda ou saiba algo que de outra forma não saberia e, por sua vez, invalida o desempenho estimado do modo que está sendo construído."
      ],
      "metadata": {
        "id": "egTjefuOd5wI"
      }
    },
    {
      "cell_type": "code",
      "execution_count": 127,
      "metadata": {
        "colab": {
          "base_uri": "https://localhost:8080/"
        },
        "id": "2cgFbGPYJfI3",
        "outputId": "6ebdfa23-d2c8-4765-de6b-cadb44f1e41d"
      },
      "outputs": [
        {
          "output_type": "execute_result",
          "data": {
            "text/plain": [
              "array([[ 0.38767591, -0.50150974,  0.99710437, ...,  0.83862835,\n",
              "        -4.01194497,  1.45287772],\n",
              "       [-0.24718877, -0.50150974,  1.21043345, ..., -1.74230266,\n",
              "         0.18309816, -1.49470448],\n",
              "       [-0.38946875,  0.00531919, -0.47746082, ..., -1.50767257,\n",
              "         0.32071083,  2.36066741],\n",
              "       ...,\n",
              "       [ 0.13333619, -0.50150974,  0.99710437, ...,  0.83862835,\n",
              "        -1.16144525,  0.5136435 ],\n",
              "       [-0.40567711, -0.50150974, -1.19528435, ..., -0.19374406,\n",
              "         0.43655362, -0.88495418],\n",
              "       [-0.40416922, -0.50150974, -1.19528435, ..., -0.19374406,\n",
              "         0.39854094, -1.2431483 ]])"
            ]
          },
          "metadata": {},
          "execution_count": 127
        }
      ],
      "source": [
        "from sklearn.pipeline import Pipeline\n",
        "from sklearn.preprocessing import StandardScaler\n",
        "num_pipeline = Pipeline([\n",
        "        ('std_scaler', StandardScaler()),\n",
        "    ])\n",
        "\n",
        "boston_prepared = num_pipeline.fit_transform(boston)\n",
        "\n",
        "boston_prepared"
      ]
    },
    {
      "cell_type": "code",
      "execution_count": 128,
      "metadata": {
        "colab": {
          "base_uri": "https://localhost:8080/"
        },
        "id": "Ek8V8i43Myib",
        "outputId": "4ed7e47e-8eab-4866-d547-30dc6d3db0ea"
      },
      "outputs": [
        {
          "output_type": "execute_result",
          "data": {
            "text/plain": [
              "(404, 13)"
            ]
          },
          "metadata": {},
          "execution_count": 128
        }
      ],
      "source": [
        "boston_prepared.shape"
      ]
    },
    {
      "cell_type": "markdown",
      "metadata": {
        "id": "hEd0_zms8M3Q"
      },
      "source": [
        "# Selecionando e treinando modelos"
      ]
    },
    {
      "cell_type": "markdown",
      "source": [
        "Aqui precisamos escolher uma métrica. Optaremos pelo MSE. Devido a definição do MSE (tomamos o quadrado do erro), o efeito de erros maiores se torna consideravelmente mais expressivo do que o efeito dos erros menores, de sorte que o modelo vai concentrar seus esforços em eliminar os erros maiores. Por isso escolhemos essa métrica, pois queremos prever o valor dos imóveis em questão evitando erros grandes.\n",
        "\n",
        "Começaremos com um modelo simples, a regressão linear:"
      ],
      "metadata": {
        "id": "FgznHmU_Dkfm"
      }
    },
    {
      "cell_type": "code",
      "execution_count": 129,
      "metadata": {
        "colab": {
          "base_uri": "https://localhost:8080/"
        },
        "id": "7PRI5EiFM_S5",
        "outputId": "ff12e6e0-5681-4f84-c35e-defd5c225058"
      },
      "outputs": [
        {
          "output_type": "execute_result",
          "data": {
            "text/plain": [
              "LinearRegression()"
            ]
          },
          "metadata": {},
          "execution_count": 129
        }
      ],
      "source": [
        "from sklearn.linear_model import LinearRegression\n",
        "\n",
        "lin_reg = LinearRegression()\n",
        "lin_reg.fit(boston_prepared, boston_labels) "
      ]
    },
    {
      "cell_type": "code",
      "execution_count": 130,
      "metadata": {
        "colab": {
          "base_uri": "https://localhost:8080/"
        },
        "id": "g9eusLZ4O617",
        "outputId": "1c6993f8-92c8-4096-9425-ab922b48e574"
      },
      "outputs": [
        {
          "output_type": "execute_result",
          "data": {
            "text/plain": [
              "4.733447309099182"
            ]
          },
          "metadata": {},
          "execution_count": 130
        }
      ],
      "source": [
        "from sklearn.metrics import mean_squared_error as MSE\n",
        "\n",
        "boston_predictions = lin_reg.predict(boston_prepared)\n",
        "lin_mse = MSE(boston_labels, boston_predictions)\n",
        "lin_rmse = np.sqrt(lin_mse) #Não é necessariamente obrigatório\n",
        "lin_rmse"
      ]
    },
    {
      "cell_type": "markdown",
      "source": [
        "Como esse é um dos algoritmos mais simples, vamos tentar melhorar os resultados usando o decision tree. Testaremos 3 configurações nesse caso:"
      ],
      "metadata": {
        "id": "IyVtPE5Fein1"
      }
    },
    {
      "cell_type": "code",
      "source": [
        "from sklearn.tree import DecisionTreeRegressor"
      ],
      "metadata": {
        "id": "AvBbsos2Jn9E"
      },
      "execution_count": 131,
      "outputs": []
    },
    {
      "cell_type": "code",
      "source": [
        "tree_reg_1 = DecisionTreeRegressor(max_depth=20, random_state=seed)\n",
        "tree_reg_1.fit(boston_prepared, boston_labels)"
      ],
      "metadata": {
        "colab": {
          "base_uri": "https://localhost:8080/"
        },
        "id": "IMqb-oNJKuaf",
        "outputId": "dfec55ae-73e6-41f1-b052-aa585566bfc1"
      },
      "execution_count": 132,
      "outputs": [
        {
          "output_type": "execute_result",
          "data": {
            "text/plain": [
              "DecisionTreeRegressor(max_depth=20, random_state=19)"
            ]
          },
          "metadata": {},
          "execution_count": 132
        }
      ]
    },
    {
      "cell_type": "code",
      "source": [
        "boston_predictions = tree_reg_1.predict(boston_prepared)\n",
        "tree_1_mse = MSE(boston_labels, boston_predictions)\n",
        "tree_1_rmse = np.sqrt(tree_1_mse)\n",
        "tree_1_rmse"
      ],
      "metadata": {
        "colab": {
          "base_uri": "https://localhost:8080/"
        },
        "id": "HVLyi125K9c-",
        "outputId": "41f5d2d5-04a5-4934-d87a-0bc39fb6a10b"
      },
      "execution_count": 133,
      "outputs": [
        {
          "output_type": "execute_result",
          "data": {
            "text/plain": [
              "0.0"
            ]
          },
          "metadata": {},
          "execution_count": 133
        }
      ]
    },
    {
      "cell_type": "code",
      "execution_count": 134,
      "metadata": {
        "colab": {
          "base_uri": "https://localhost:8080/"
        },
        "id": "8opfcLrHPy-w",
        "outputId": "1c44b7f2-0cc7-43ab-ac50-c63268871ba3"
      },
      "outputs": [
        {
          "output_type": "execute_result",
          "data": {
            "text/plain": [
              "DecisionTreeRegressor(max_depth=20, min_samples_leaf=2, random_state=19)"
            ]
          },
          "metadata": {},
          "execution_count": 134
        }
      ],
      "source": [
        "tree_reg_2 = DecisionTreeRegressor(max_depth=20, min_samples_leaf= 2, random_state=seed)\n",
        "tree_reg_2.fit(boston_prepared, boston_labels)"
      ]
    },
    {
      "cell_type": "code",
      "execution_count": 135,
      "metadata": {
        "colab": {
          "base_uri": "https://localhost:8080/"
        },
        "id": "p-dMoTbbP52x",
        "outputId": "d9a258d7-e05b-479a-b73a-35f63b1a7850"
      },
      "outputs": [
        {
          "output_type": "execute_result",
          "data": {
            "text/plain": [
              "1.0957576458696732"
            ]
          },
          "metadata": {},
          "execution_count": 135
        }
      ],
      "source": [
        "boston_predictions = tree_reg_2.predict(boston_prepared)\n",
        "tree_2_mse = MSE(boston_labels, boston_predictions)\n",
        "tree_2_rmse = np.sqrt(tree_2_mse)\n",
        "tree_2_rmse"
      ]
    },
    {
      "cell_type": "code",
      "source": [
        "tree_reg_3 = DecisionTreeRegressor(max_depth=20,  min_samples_leaf= 4, random_state=seed)\n",
        "tree_reg_3.fit(boston_prepared, boston_labels)"
      ],
      "metadata": {
        "colab": {
          "base_uri": "https://localhost:8080/"
        },
        "id": "AdaxR_ulL2nJ",
        "outputId": "703429be-99ec-466e-a966-abec9d75a963"
      },
      "execution_count": 136,
      "outputs": [
        {
          "output_type": "execute_result",
          "data": {
            "text/plain": [
              "DecisionTreeRegressor(max_depth=20, min_samples_leaf=4, random_state=19)"
            ]
          },
          "metadata": {},
          "execution_count": 136
        }
      ]
    },
    {
      "cell_type": "code",
      "source": [
        "boston_predictions = tree_reg_3.predict(boston_prepared)\n",
        "tree_3_mse = MSE(boston_labels, boston_predictions)\n",
        "tree_3_rmse = np.sqrt(tree_3_mse)\n",
        "tree_3_rmse"
      ],
      "metadata": {
        "colab": {
          "base_uri": "https://localhost:8080/"
        },
        "id": "z9cLm_cvL9vC",
        "outputId": "5ff97b71-2282-4785-a2bf-f6e133e6d308"
      },
      "execution_count": 137,
      "outputs": [
        {
          "output_type": "execute_result",
          "data": {
            "text/plain": [
              "2.5770927306715143"
            ]
          },
          "metadata": {},
          "execution_count": 137
        }
      ]
    },
    {
      "cell_type": "markdown",
      "source": [
        "Note que o decision tree está se sobreajustando ao conjunto de treinamento. Por isso, vamos testar agora outro algoritmo: o random forest."
      ],
      "metadata": {
        "id": "iAxdr-I-KiPZ"
      }
    },
    {
      "cell_type": "code",
      "execution_count": 138,
      "metadata": {
        "colab": {
          "base_uri": "https://localhost:8080/"
        },
        "id": "fgHzlwtSQuZ5",
        "outputId": "d7386923-9072-4a7e-9198-328bccf0d285"
      },
      "outputs": [
        {
          "output_type": "execute_result",
          "data": {
            "text/plain": [
              "RandomForestRegressor(n_estimators=10, random_state=19)"
            ]
          },
          "metadata": {},
          "execution_count": 138
        }
      ],
      "source": [
        "from sklearn.ensemble import RandomForestRegressor\n",
        "\n",
        "forest_reg = RandomForestRegressor(n_estimators=10, random_state=seed)\n",
        "forest_reg.fit(boston_prepared, boston_labels) #Treinar modelo"
      ]
    },
    {
      "cell_type": "code",
      "execution_count": 139,
      "metadata": {
        "colab": {
          "base_uri": "https://localhost:8080/"
        },
        "id": "43-vnRzIQzVQ",
        "outputId": "8b7ad60f-50eb-4d01-cc3e-f3198fea8a30"
      },
      "outputs": [
        {
          "output_type": "execute_result",
          "data": {
            "text/plain": [
              "1.5290579834759974"
            ]
          },
          "metadata": {},
          "execution_count": 139
        }
      ],
      "source": [
        "boston_predictions = forest_reg.predict(boston_prepared) #Predizer\n",
        "forest_mse = MSE(boston_labels, boston_predictions)\n",
        "forest_rmse = np.sqrt(forest_mse)\n",
        "forest_rmse"
      ]
    },
    {
      "cell_type": "markdown",
      "source": [
        "# Valindando os modelos"
      ],
      "metadata": {
        "id": "xnK4abWCfhR5"
      }
    },
    {
      "cell_type": "markdown",
      "source": [
        "Para realizarmos a validação, usaremos a validação cruzada. No nosso caso, separaremos o conjunto de treinamento em cv=10 partes. Vale ressaltar que o cross validation age da seguinte forma: para cada parte k ele treina o modelo no conjunto treino∖k e então testa o modelo no conjunto k. \n",
        "\n"
      ],
      "metadata": {
        "id": "YxSTnFiO8hfq"
      }
    },
    {
      "cell_type": "code",
      "source": [
        "def display_scores(scores):\n",
        "    print(\"Scores:\", scores)\n",
        "    print(\"Mean:\", scores.mean())\n",
        "    print(\"Standard deviation:\", scores.std())"
      ],
      "metadata": {
        "id": "psJECc7hHFRf"
      },
      "execution_count": 140,
      "outputs": []
    },
    {
      "cell_type": "code",
      "source": [
        "from sklearn.model_selection import cross_val_score\n",
        "\n",
        "lin_scores = cross_val_score(lin_reg, boston_prepared, boston_labels,\n",
        "                             scoring=\"neg_mean_squared_error\", cv=10)\n",
        "lin_rmse_scores = np.sqrt(-lin_scores)\n",
        "display_scores(lin_rmse_scores)"
      ],
      "metadata": {
        "colab": {
          "base_uri": "https://localhost:8080/"
        },
        "id": "3kcdf6cwG5cy",
        "outputId": "7bf2ddd2-15f6-4bc2-9f48-fb72b778679f"
      },
      "execution_count": 141,
      "outputs": [
        {
          "output_type": "stream",
          "name": "stdout",
          "text": [
            "Scores: [5.05774417 3.6472695  5.08554232 4.32725253 2.98203504 7.05169653\n",
            " 3.45228314 5.63044714 4.52310147 6.28708895]\n",
            "Mean: 4.804446079044981\n",
            "Standard deviation: 1.2193961604528814\n"
          ]
        }
      ]
    },
    {
      "cell_type": "code",
      "source": [
        "scores = cross_val_score(tree_reg_1, boston_prepared, boston_labels,\n",
        "                         scoring=\"neg_mean_squared_error\", cv=10) \n",
        "tree_1_rmse_scores = np.sqrt(-scores)\n",
        "display_scores(tree_1_rmse_scores)"
      ],
      "metadata": {
        "colab": {
          "base_uri": "https://localhost:8080/"
        },
        "id": "xyERKwkgK_YC",
        "outputId": "a677b095-9248-4055-fa3d-ed0ac90728bc"
      },
      "execution_count": 142,
      "outputs": [
        {
          "output_type": "stream",
          "name": "stdout",
          "text": [
            "Scores: [3.58785213 3.76352844 4.09059003 4.26325766 3.11921464 5.16059051\n",
            " 4.09197385 3.27062685 6.60210194 5.796486  ]\n",
            "Mean: 4.374622207057814\n",
            "Standard deviation: 1.0752381992298332\n"
          ]
        }
      ]
    },
    {
      "cell_type": "code",
      "execution_count": 143,
      "metadata": {
        "id": "3677sBn_Pc9s",
        "colab": {
          "base_uri": "https://localhost:8080/"
        },
        "outputId": "3cee70d6-c57e-4eae-d1c4-752dc271448f"
      },
      "outputs": [
        {
          "output_type": "stream",
          "name": "stdout",
          "text": [
            "Scores: [4.0518439  2.8731504  3.68961224 4.68507476 3.0053494  4.4131464\n",
            " 3.01341561 3.74347766 7.0745205  6.48207732]\n",
            "Mean: 4.303166817996368\n",
            "Standard deviation: 1.3686343909094627\n"
          ]
        }
      ],
      "source": [
        "scores = cross_val_score(tree_reg_2, boston_prepared, boston_labels,\n",
        "                         scoring=\"neg_mean_squared_error\", cv=10) \n",
        "tree_2_rmse_scores = np.sqrt(-scores)\n",
        "display_scores(tree_2_rmse_scores)"
      ]
    },
    {
      "cell_type": "code",
      "source": [
        "scores = cross_val_score(tree_reg_3, boston_prepared, boston_labels,\n",
        "                         scoring=\"neg_mean_squared_error\", cv=10) \n",
        "tree_3_rmse_scores = np.sqrt(-scores)\n",
        "display_scores(tree_3_rmse_scores)"
      ],
      "metadata": {
        "colab": {
          "base_uri": "https://localhost:8080/"
        },
        "id": "gbU6Hj0AL-Wj",
        "outputId": "a6af2075-5546-4676-9a04-5833b319e4a5"
      },
      "execution_count": 144,
      "outputs": [
        {
          "output_type": "stream",
          "name": "stdout",
          "text": [
            "Scores: [5.17762118 2.60297458 4.06956166 5.23953231 2.62302844 4.32215853\n",
            " 4.54329979 5.86757102 7.02810881 6.00458279]\n",
            "Mean: 4.747843911553001\n",
            "Standard deviation: 1.351209599126376\n"
          ]
        }
      ]
    },
    {
      "cell_type": "code",
      "execution_count": 145,
      "metadata": {
        "colab": {
          "base_uri": "https://localhost:8080/"
        },
        "id": "Djd7kSCEQ-0c",
        "outputId": "f44c37c3-f944-4f7c-bc26-d30d448ccd9a"
      },
      "outputs": [
        {
          "output_type": "stream",
          "name": "stdout",
          "text": [
            "Scores: [3.38948697 2.24643186 4.06722594 4.03890803 2.20502551 3.37577028\n",
            " 2.04851532 3.27699291 4.01501993 4.95927843]\n",
            "Mean: 3.3622655162536885\n",
            "Standard deviation: 0.9082827978632225\n"
          ]
        }
      ],
      "source": [
        "forest_scores = cross_val_score(forest_reg, boston_prepared, boston_labels,\n",
        "                                scoring=\"neg_mean_squared_error\", cv=10)\n",
        "forest_rmse_scores = np.sqrt(-forest_scores)\n",
        "display_scores(forest_rmse_scores)"
      ]
    },
    {
      "cell_type": "markdown",
      "source": [
        "Embora o decision tree teve melhores erros no conjunto de treinamento, ele foi quase tão ruim quanto a regressão linear no processo de validação cruzada (efeito devido ao sobreajuste no conjunto de treino). Por isso, vamos ficar com o modelo do random forest. Usaremos o gridsearch para testar e encontrar os melhores parâmetros para esse algoritmo:"
      ],
      "metadata": {
        "id": "hCPPJcG6hzCF"
      }
    },
    {
      "cell_type": "code",
      "execution_count": 146,
      "metadata": {
        "colab": {
          "base_uri": "https://localhost:8080/"
        },
        "id": "Y7C4lkmxCgh6",
        "outputId": "490fc61a-0df9-44c0-8075-ec0a5cb08387"
      },
      "outputs": [
        {
          "output_type": "execute_result",
          "data": {
            "text/plain": [
              "GridSearchCV(cv=5, estimator=RandomForestRegressor(random_state=19),\n",
              "             param_grid=[{'max_features': [2, 3, 4, 6, 8, 10],\n",
              "                          'n_estimators': [3, 7, 10, 30, 100]},\n",
              "                         {'bootstrap': [False], 'max_features': [2, 3, 4],\n",
              "                          'n_estimators': [3, 7, 10]}],\n",
              "             return_train_score=True, scoring='neg_mean_squared_error')"
            ]
          },
          "metadata": {},
          "execution_count": 146
        }
      ],
      "source": [
        "from sklearn.model_selection import GridSearchCV\n",
        "\n",
        "param_grid = [\n",
        "    # Vamos tentar 12 = 3x4 combinação de parâmetros\n",
        "    {'n_estimators': [3, 7, 10, 30, 100], 'max_features': [2, 3, 4, 6, 8, 10]},\n",
        "    # Tentar 6 = 2×3 combinações do bootstrap no modo 'Falso'\n",
        "    {'bootstrap': [False], 'n_estimators': [3, 7, 10], 'max_features': [2, 3, 4]},\n",
        "  ]\n",
        "\n",
        "forest_reg = RandomForestRegressor(random_state=seed)\n",
        "\n",
        "# Vamos treinar com 5-folds, então temos (12+6)*5=90 rodadas de treinamento!!!\n",
        "\n",
        "grid_search = GridSearchCV(forest_reg, param_grid, cv=5,\n",
        "                           scoring='neg_mean_squared_error',\n",
        "                           return_train_score=True)\n",
        "\n",
        "grid_search.fit(boston_prepared, boston_labels)"
      ]
    },
    {
      "cell_type": "code",
      "execution_count": 147,
      "metadata": {
        "colab": {
          "base_uri": "https://localhost:8080/"
        },
        "id": "IGYh52tvCgh6",
        "outputId": "c691b263-f585-4121-aa95-a033be748c4c"
      },
      "outputs": [
        {
          "output_type": "execute_result",
          "data": {
            "text/plain": [
              "{'max_features': 8, 'n_estimators': 30}"
            ]
          },
          "metadata": {},
          "execution_count": 147
        }
      ],
      "source": [
        "grid_search.best_params_"
      ]
    },
    {
      "cell_type": "code",
      "execution_count": 148,
      "metadata": {
        "colab": {
          "base_uri": "https://localhost:8080/"
        },
        "id": "gQoLbOLGCgh7",
        "outputId": "8f7804b5-d77a-48ef-88c4-fda897d504e1"
      },
      "outputs": [
        {
          "output_type": "execute_result",
          "data": {
            "text/plain": [
              "RandomForestRegressor(max_features=8, n_estimators=30, random_state=19)"
            ]
          },
          "metadata": {},
          "execution_count": 148
        }
      ],
      "source": [
        "grid_search.best_estimator_"
      ]
    },
    {
      "cell_type": "code",
      "execution_count": 149,
      "metadata": {
        "colab": {
          "base_uri": "https://localhost:8080/"
        },
        "id": "cfL_5NEyCgh7",
        "outputId": "f9bf8df9-eee5-4322-cdb2-ad7cf39ddb73"
      },
      "outputs": [
        {
          "output_type": "stream",
          "name": "stdout",
          "text": [
            "5.037268965929514 {'max_features': 2, 'n_estimators': 3}\n",
            "4.333159807415794 {'max_features': 2, 'n_estimators': 7}\n",
            "4.127809461146537 {'max_features': 2, 'n_estimators': 10}\n",
            "3.7530371474642927 {'max_features': 2, 'n_estimators': 30}\n",
            "3.6848429968563763 {'max_features': 2, 'n_estimators': 100}\n",
            "4.247275657925123 {'max_features': 3, 'n_estimators': 3}\n",
            "4.131385584073856 {'max_features': 3, 'n_estimators': 7}\n",
            "3.973492145098627 {'max_features': 3, 'n_estimators': 10}\n",
            "3.7188176951913885 {'max_features': 3, 'n_estimators': 30}\n",
            "3.500644320781144 {'max_features': 3, 'n_estimators': 100}\n",
            "4.562865284999492 {'max_features': 4, 'n_estimators': 3}\n",
            "3.9476943096967108 {'max_features': 4, 'n_estimators': 7}\n",
            "3.9489223698011653 {'max_features': 4, 'n_estimators': 10}\n",
            "3.556903173434046 {'max_features': 4, 'n_estimators': 30}\n",
            "3.469016666301885 {'max_features': 4, 'n_estimators': 100}\n",
            "4.439157604005084 {'max_features': 6, 'n_estimators': 3}\n",
            "3.548625137868271 {'max_features': 6, 'n_estimators': 7}\n",
            "3.5051336865366243 {'max_features': 6, 'n_estimators': 10}\n",
            "3.361298479013813 {'max_features': 6, 'n_estimators': 30}\n",
            "3.3781219140573606 {'max_features': 6, 'n_estimators': 100}\n",
            "3.870736598834684 {'max_features': 8, 'n_estimators': 3}\n",
            "3.410051660057812 {'max_features': 8, 'n_estimators': 7}\n",
            "3.346986703101872 {'max_features': 8, 'n_estimators': 10}\n",
            "3.2378439965329973 {'max_features': 8, 'n_estimators': 30}\n",
            "3.251837999956788 {'max_features': 8, 'n_estimators': 100}\n",
            "4.158282123603296 {'max_features': 10, 'n_estimators': 3}\n",
            "3.719316812063861 {'max_features': 10, 'n_estimators': 7}\n",
            "3.6412569432193616 {'max_features': 10, 'n_estimators': 10}\n",
            "3.4460866730285082 {'max_features': 10, 'n_estimators': 30}\n",
            "3.3872897416092282 {'max_features': 10, 'n_estimators': 100}\n",
            "4.886646269445806 {'bootstrap': False, 'max_features': 2, 'n_estimators': 3}\n",
            "4.152026515745384 {'bootstrap': False, 'max_features': 2, 'n_estimators': 7}\n",
            "4.110696923580096 {'bootstrap': False, 'max_features': 2, 'n_estimators': 10}\n",
            "4.278027221362849 {'bootstrap': False, 'max_features': 3, 'n_estimators': 3}\n",
            "4.010137069942608 {'bootstrap': False, 'max_features': 3, 'n_estimators': 7}\n",
            "3.8423131977854883 {'bootstrap': False, 'max_features': 3, 'n_estimators': 10}\n",
            "3.814649785175449 {'bootstrap': False, 'max_features': 4, 'n_estimators': 3}\n",
            "3.369414658339592 {'bootstrap': False, 'max_features': 4, 'n_estimators': 7}\n",
            "3.5267380650722604 {'bootstrap': False, 'max_features': 4, 'n_estimators': 10}\n"
          ]
        }
      ],
      "source": [
        "cvres = grid_search.cv_results_\n",
        "for mean_score, params in zip(cvres[\"mean_test_score\"], cvres[\"params\"]):\n",
        "    print(np.sqrt(-mean_score), params)"
      ]
    },
    {
      "cell_type": "markdown",
      "source": [
        "#O Teste Final"
      ],
      "metadata": {
        "id": "_wcyYCChiC8s"
      }
    },
    {
      "cell_type": "markdown",
      "source": [
        "Por fim, vamos realizar o teste final para encontrar um erro aproximado para o modelo:"
      ],
      "metadata": {
        "id": "7ta_c3q4iILs"
      }
    },
    {
      "cell_type": "code",
      "execution_count": 150,
      "metadata": {
        "colab": {
          "base_uri": "https://localhost:8080/"
        },
        "id": "63MuYMxNCgh7",
        "outputId": "965179fe-2942-49c6-f82e-25ba8ea2cb06"
      },
      "outputs": [
        {
          "output_type": "execute_result",
          "data": {
            "text/plain": [
              "3.263282610913864"
            ]
          },
          "metadata": {},
          "execution_count": 150
        }
      ],
      "source": [
        "final_model = grid_search.best_estimator_\n",
        "\n",
        "X_test = strat_test_set.drop(\"MEDV\", axis=1)\n",
        "y_test = strat_test_set[\"MEDV\"].copy()\n",
        "\n",
        "X_test_prepared = num_pipeline.fit_transform(X_test)\n",
        "final_predictions = final_model.predict(X_test_prepared)\n",
        "\n",
        "final_mse = MSE(y_test, final_predictions)\n",
        "final_rmse = np.sqrt(final_mse)\n",
        "final_rmse"
      ]
    }
  ],
  "metadata": {
    "colab": {
      "collapsed_sections": [],
      "name": "Boston Housing v2.ipynb",
      "provenance": []
    },
    "kernelspec": {
      "display_name": "Python 3 (ipykernel)",
      "language": "python",
      "name": "python3"
    },
    "language_info": {
      "codemirror_mode": {
        "name": "ipython",
        "version": 3
      },
      "file_extension": ".py",
      "mimetype": "text/x-python",
      "name": "python",
      "nbconvert_exporter": "python",
      "pygments_lexer": "ipython3",
      "version": "3.9.7"
    }
  },
  "nbformat": 4,
  "nbformat_minor": 0
}
